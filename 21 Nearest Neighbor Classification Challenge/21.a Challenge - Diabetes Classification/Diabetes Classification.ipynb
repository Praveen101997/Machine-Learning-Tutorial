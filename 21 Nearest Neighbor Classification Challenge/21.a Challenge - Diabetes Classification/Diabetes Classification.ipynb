{
 "cells": [
  {
   "cell_type": "markdown",
   "metadata": {},
   "source": [
    "# Diabetes Classification"
   ]
  },
  {
   "cell_type": "code",
   "execution_count": 18,
   "metadata": {},
   "outputs": [],
   "source": [
    "import pandas as pd\n",
    "import numpy as np"
   ]
  },
  {
   "cell_type": "code",
   "execution_count": 19,
   "metadata": {},
   "outputs": [],
   "source": [
    "dfx=pd.read_csv(r'Training_Data\\Diabetes_XTrain.csv')\n",
    "dfy=pd.read_csv(r'Training_Data\\Diabetes_YTrain.csv')\n",
    "dftest=pd.read_csv(r'Test_Cases\\Diabetes_XTest.csv')"
   ]
  },
  {
   "cell_type": "code",
   "execution_count": 20,
   "metadata": {},
   "outputs": [
    {
     "name": "stdout",
     "output_type": "stream",
     "text": [
      "(576, 8)\n",
      "(576, 1)\n"
     ]
    }
   ],
   "source": [
    "dfx.head()\n",
    "x1=dfx.values\n",
    "y1=dfy.values\n",
    "print(x1.shape)\n",
    "print(y1.shape)"
   ]
  },
  {
   "cell_type": "code",
   "execution_count": 21,
   "metadata": {},
   "outputs": [],
   "source": [
    "def dist(w,z):\n",
    "    return np.sqrt(sum((w-z)**2))"
   ]
  },
  {
   "cell_type": "code",
   "execution_count": 22,
   "metadata": {},
   "outputs": [],
   "source": [
    "def knn(x,y,query_point,k=7):\n",
    "    m=x.shape[0]\n",
    "    vals=[]\n",
    "    for i in range(m):\n",
    "        d=dist(x[i],query_point)\n",
    "        vals.append((d,y[i]))\n",
    "    vals=sorted(vals)\n",
    "    vals=vals[:k]\n",
    "    vals=np.array(vals)\n",
    "    #print(vals)\n",
    "    vals2=vals[:,1]\n",
    "    #print(vals2)\n",
    "    d=sum(vals2)\n",
    "    if d>3:\n",
    "        return 1\n",
    "    else :\n",
    "        return 0\n",
    "    #newvals=np.unique(vals,return_counts=True)\n",
    "    #print(newvals)\n"
   ]
  },
  {
   "cell_type": "code",
   "execution_count": 23,
   "metadata": {},
   "outputs": [
    {
     "name": "stdout",
     "output_type": "stream",
     "text": [
      "(192, 8)\n",
      "192\n"
     ]
    }
   ],
   "source": [
    "test=dftest.values\n",
    "print(test.shape)\n",
    "k=test.shape[0]\n",
    "print(k)\n",
    "k=int(k)"
   ]
  },
  {
   "cell_type": "code",
   "execution_count": 24,
   "metadata": {},
   "outputs": [],
   "source": [
    "ans=np.full((192,1),0)\n",
    "for i in range(k):\n",
    "    a=knn(x1,y1,test[i],7)\n",
    "    ans[i][0]=a\n",
    "\n",
    "#print(ans)    \n",
    "ans=pd.DataFrame(ans,columns=['Outcome'])\n",
    "ans.head()\n",
    "ans=ans.to_csv('Output_Y_Test.csv',index=False)"
   ]
  },
  {
   "cell_type": "code",
   "execution_count": null,
   "metadata": {},
   "outputs": [],
   "source": []
  },
  {
   "cell_type": "code",
   "execution_count": null,
   "metadata": {},
   "outputs": [],
   "source": []
  },
  {
   "cell_type": "code",
   "execution_count": 25,
   "metadata": {},
   "outputs": [],
   "source": [
    "# Question\n",
    "# how should i try to improve my accuracy in diabetes classifier i’m getting 79 points\n",
    "# also can u please suggest me how to choose best value of k\n",
    "# for knn"
   ]
  },
  {
   "cell_type": "code",
   "execution_count": 26,
   "metadata": {},
   "outputs": [],
   "source": [
    "# Answer\n",
    "# Try dropping some features which you think are useless and then normalise both the train and test data. \n",
    "# Also keep the value of k greater than 15 and try it for each possible value till 25. \n",
    "# If you do not want to search for the value of k manually or by hit and trial then you can use grid search. \n",
    "# By doing this you can easily get the accuracy around 84%"
   ]
  },
  {
   "cell_type": "code",
   "execution_count": null,
   "metadata": {},
   "outputs": [],
   "source": []
  }
 ],
 "metadata": {
  "kernelspec": {
   "display_name": "Python 3",
   "language": "python",
   "name": "python3"
  },
  "language_info": {
   "codemirror_mode": {
    "name": "ipython",
    "version": 3
   },
   "file_extension": ".py",
   "mimetype": "text/x-python",
   "name": "python",
   "nbconvert_exporter": "python",
   "pygments_lexer": "ipython3",
   "version": "3.7.3"
  }
 },
 "nbformat": 4,
 "nbformat_minor": 2
}
