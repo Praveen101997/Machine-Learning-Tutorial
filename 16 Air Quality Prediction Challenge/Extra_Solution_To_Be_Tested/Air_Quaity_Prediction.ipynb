{
 "cells": [
  {
   "cell_type": "markdown",
   "metadata": {},
   "source": [
    "# Air Quality Prediction"
   ]
  },
  {
   "cell_type": "code",
   "execution_count": 30,
   "metadata": {},
   "outputs": [],
   "source": [
    "#All Important Library\n",
    "import numpy as np\n",
    "import matplotlib.pyplot as plt\n",
    "import pandas as pd\n",
    "import seaborn as sns"
   ]
  },
  {
   "cell_type": "code",
   "execution_count": 41,
   "metadata": {},
   "outputs": [],
   "source": [
    "#Import Training CSV File\n",
    "df=pd.read_csv(\"Train/Train.csv\")\n",
    "\n",
    "x=np.array(df)  #Converting dataframe into numpy array in order to access element\n",
    "Y=df.target     #Saving the target values in Y\n",
    "x=x[:,:5]       #Making x an array having all 5 features\n",
    "ones=np.ones((x.shape[0],1))  \n",
    "X=np.append(ones,x,axis=1)   #Since first element i.e x[0] should be 1, so we have added 1 as the first column\n",
    "\n",
    "\n",
    "#Import Test CSV File\n",
    "df_test=pd.read_csv(\"Test/Test.csv\")  #Reading Test data\n",
    "X_test=np.array(df_test)\n",
    "X_test=np.append(np.ones((X_test.shape[0],1)),X_test,axis=1)  #adding 1 as column 1 in test data"
   ]
  },
  {
   "cell_type": "code",
   "execution_count": 42,
   "metadata": {},
   "outputs": [
    {
     "name": "stdout",
     "output_type": "stream",
     "text": [
      "Shape of Training data  (1600, 6)\n"
     ]
    }
   ],
   "source": [
    "#Print Shape Of Training Data\n",
    "print(\"Shape of Training data \" ,X.shape)"
   ]
  },
  {
   "cell_type": "code",
   "execution_count": 43,
   "metadata": {},
   "outputs": [],
   "source": [
    "#creating hypothesis function\n",
    "def hypothesis(x,theta):       \n",
    "    result=np.dot(theta,x.T)\n",
    "    return(result)"
   ]
  },
  {
   "cell_type": "code",
   "execution_count": 66,
   "metadata": {},
   "outputs": [],
   "source": [
    "#creating prediction function which uses X_test and theta values to predict the Y value\n",
    "def predictions(X,theta):     \n",
    "    y_pred = []\n",
    "    \n",
    "    for i in range(X.shape[0]):\n",
    "        pred = hypothesis(X[i],theta)\n",
    "        y_pred.append(pred)\n",
    "    y_pred = np.array(y_pred)\n",
    "    return (y_pred)"
   ]
  },
  {
   "cell_type": "code",
   "execution_count": 67,
   "metadata": {},
   "outputs": [],
   "source": [
    "#calculating error\n",
    "def get_error(X,Y,theta):\n",
    "    e = 0\n",
    "    m = X.shape[0]\n",
    "    for i in range(m):\n",
    "        e += (hypothesis(X[i],theta)-Y[i])**2\n",
    "        \n",
    "    return(e)"
   ]
  },
  {
   "cell_type": "code",
   "execution_count": 68,
   "metadata": {},
   "outputs": [],
   "source": [
    "def getGradients(X,Y,theta):    \n",
    "    grads = np.zeros((X.shape[1]))\n",
    "    n = len(grads) # no. of features inc. bias\n",
    "    m = X.shape[0]\n",
    "    for i in range(m):\n",
    "        hx = hypothesis(X[i],theta)\n",
    "        for grad_index in range(n):\n",
    "            grads[grad_index] += (hx - Y[i])* X[i,grad_index]           \n",
    "        \n",
    "    return (grads)"
   ]
  },
  {
   "cell_type": "code",
   "execution_count": 69,
   "metadata": {},
   "outputs": [],
   "source": [
    "#Calculating Batch Gradient\n",
    "def batchgrad(X,Y,theta,batch_size=100):\n",
    "    m=Y.shape[0]\n",
    "    indices=np.arange(m)\n",
    "    np.random.shuffle(indices)\n",
    "    indices=indices[:batch_size]\n",
    "    grad=np.zeros((X.shape[1]))\n",
    "    n=len(grad)\n",
    "    for i in indices:\n",
    "        hx=hypothesis(X[i],theta)\n",
    "        for grad_index in range(n):\n",
    "            grad[grad_index] += (hx - Y[i])* X[i,grad_index]           \n",
    "        \n",
    "    return (grad)"
   ]
  },
  {
   "cell_type": "code",
   "execution_count": 74,
   "metadata": {},
   "outputs": [],
   "source": [
    "#Calculating Batch Gradient\n",
    "def miniBatchGradientDescent(X,Y,maxItr=100, learning_rate = 0.001):\n",
    "    \n",
    "    theta = np.zeros((X.shape[1]))\n",
    "    error = []\n",
    "    n=len(theta)\n",
    "    for i in range(maxItr):\n",
    "        grad=batchgrad(X,Y,theta)\n",
    "        e=get_error(X,Y,theta)\n",
    "        for theta_index in range(n):\n",
    "            theta[theta_index]-=learning_rate*grad[theta_index]\n",
    "        error.append(e)\n",
    "\n",
    "    return (theta,error)"
   ]
  },
  {
   "cell_type": "code",
   "execution_count": 76,
   "metadata": {},
   "outputs": [
    {
     "data": {
      "image/png": "[encoded data removed]",
      "text/plain": [
       "<Figure size 432x288 with 1 Axes>"
      ]
     },
     "metadata": {
      "needs_background": "light"
     },
     "output_type": "display_data"
    }
   ],
   "source": [
    "#Drawing Data\n",
    "plt.figure(3)\n",
    "theta_minibatch, error_minibatch=miniBatchGradientDescent(X,Y,300,0.0001)\n",
    "sns.lineplot(data = np.array(error_minibatch))\n",
    "plt.title(\"Mini Batch Gradient Descent\")\n",
    "plt.xlabel(\"Iterations\")\n",
    "plt.ylabel(\"Error\")\n",
    "plt.show()"
   ]
  },
  {
   "cell_type": "code",
   "execution_count": 77,
   "metadata": {},
   "outputs": [
    {
     "name": "stdout",
     "output_type": "stream",
     "text": [
      "[ 109.50949716  111.52179649  -20.60307194  -42.35113482  -93.60125225\n",
      "  -45.20160158  -73.28874442   23.2433242   164.58098498  164.46153237\n",
      " -101.50690772  -19.6902974    -4.29930366  115.224273     37.09192194\n",
      "   43.09829051 -183.37007447   20.54733554   10.82296238  128.08368053\n",
      "   61.96122602  -60.19323953 -104.43915857   -9.79343303  -54.84889264\n",
      "   12.34200869   26.70918529  103.98386265   20.39120225  -25.34176991\n",
      "  105.1407824   -44.04924996  207.11470581  -16.01973339 -219.78128585\n",
      "  146.15075073   -4.46509921   12.34357349 -294.48121864   72.90206146\n",
      "  -79.21738086 -198.28773014 -228.19791506  126.58005573  -71.33584949\n",
      "   97.04652151   -4.66098283   19.28574863  -94.5157055   -27.77153293\n",
      "   10.92268657 -168.5877587    61.61290765  -94.4525821  -102.73274384\n",
      " -149.00539613   58.91367228  104.3719126   -71.20303569   40.75059012\n",
      "   38.08405706  -50.41330435  156.94583594   39.95706298   53.38198479\n",
      "   20.69666595   76.50303047   -3.67692376   -3.3873543     0.72508542\n",
      "  -24.52491598  152.21562803  -38.7935537    20.93542837  -64.37409018\n",
      "  -69.04756307   35.50968067 -154.22681068   -1.16196571  143.78854369\n",
      "  -37.6397479  -115.50078807 -184.63661248   34.00374236  139.02889034\n",
      "  259.10421425 -245.50305992  -84.55893523   73.55092699  -86.05308022\n",
      "  -48.80319785  116.95079984 -156.34778953 -112.42087659   47.01698387\n",
      "   91.63785825 -207.06742315 -115.76999475 -165.13513505  -49.44593634\n",
      "  120.91794953  -80.42081699   -2.49898345   -0.43925008   -0.88022193\n",
      "   75.23814116   41.61168028   88.22544709  -30.04639506  -81.92228852\n",
      "   36.52518041   16.56735387  110.49862968    7.1289803    69.79010271\n",
      "   30.94384911 -138.9155893     4.29129593   19.5894113   -22.12596221\n",
      "  -21.08355573 -246.24158169  253.98007536  148.76602655   13.25513126\n",
      "   80.26292932  -11.96526824 -146.62767092  107.50714644  -31.94572708\n",
      " -207.26410963  114.15041865  -28.36316336  -84.03745288  162.23295665\n",
      "   36.57791551  -18.84867621   56.22206362   41.16887442 -168.15476283\n",
      "  124.37399518  -69.9727802   201.2839807   128.72110245   -1.2977401\n",
      " -146.52211106  -16.18615348  128.67867166   34.3977231    53.56057769\n",
      "   -5.7764845   -41.50178701   16.70888072  -64.66594402   25.73218158\n",
      "  134.79328384  331.2060719   206.87322664   26.06175286  -37.2829084\n",
      " -164.93968505   10.76974777  282.55764774   71.05291705  -23.13040867\n",
      "  148.73475407 -149.74145173  132.92274108  162.33440803  -46.35233609\n",
      "   62.44984043   91.35344831   88.51450642   29.88111869  164.25194102\n",
      " -144.15677184  -90.82998798 -162.47039247  -17.36796167 -101.64913784\n",
      "  -13.97267399  -55.61012774  -71.9669253    61.90945522  -65.76008222\n",
      "   84.63896071  -53.56775528 -103.85729822  -74.46426365  175.88014593\n",
      "  -41.20507568  208.55672965  -56.38953757  -81.63481638   45.64974606\n",
      "   -0.61247258   68.68000954  -59.58542213  198.18037976 -133.01111651\n",
      "  -94.58207189 -110.05401582   22.42727309   50.23942622  141.6197163\n",
      "   44.06574072   88.80948087  163.95770915 -257.99065397 -166.48462437\n",
      " -102.32842937  -78.5348791    27.2692802   -50.16877699   73.95481102\n",
      "  -19.25920122  -51.31196104  -27.50258065   61.62029936   85.4790475\n",
      "  -80.32517895 -141.78281449   44.40917773  226.65560617  -47.31938839\n",
      "   16.27405233  -58.83982013   11.14361906    7.559485     38.30006952\n",
      "  110.73589188   17.80045524 -102.20103208   45.41759938   93.82482826\n",
      "  -87.48222488 -166.8990107   160.16657238  101.66467764   56.72420179\n",
      "   -8.90029289  -24.38232548  -45.84635682 -165.10910098  -61.93004965\n",
      "  -27.16221475 -163.84251035  -26.23220365   31.7919823  -116.13462479\n",
      "   17.14640689   -1.65163445 -244.84356626 -242.48714144 -159.59527816\n",
      "   43.98673784  124.2371399    67.3643266   113.76260982   89.50559976\n",
      "   20.37860148 -292.98696849  179.03636175 -124.56272094  -42.21041806\n",
      "  -81.46933052  -85.09708605  129.21592101  155.57132223  -38.48455583\n",
      " -136.05191052  107.63170341  -18.78268586   83.76511589  100.03869752\n",
      "   23.81519514  -49.13306972  -28.46182942   26.78086594   69.70814475\n",
      "   25.14771123 -122.36269656  -15.07302014   -9.97056516 -122.6010561\n",
      "  153.98769132   -9.33509968 -126.03027483  196.46785237   45.0731876\n",
      "   88.1447508    29.44665132  195.86074933  -38.34319404  -31.57390996\n",
      "  -39.65157695   49.94156516  -60.9011612    90.06905344  -80.20104103\n",
      "  -94.10330624  -23.25557533  -87.42066563  -23.17064643   56.13532537\n",
      "  -33.49215988  -71.07625232 -170.15746806 -157.38526642   39.30340824\n",
      "   73.52103807  286.28910989  121.67998266  123.65784949   48.05840049\n",
      "  -21.47754306  173.77431438  -55.23585725  123.33779889  146.31717924\n",
      "  -31.93445296 -194.47173396  -94.9104765     5.12645478  -42.31416775\n",
      "  -37.64368527  151.13119179  126.86161174   22.27652823  -85.51635861\n",
      "  177.0584271   -63.16692333   61.36281589   74.261303     93.3010308\n",
      " -100.4053152   108.75710754  -33.61069042   83.39020548  -79.2258636\n",
      " -193.88180121  150.4837334   -89.77543383   62.26974776  120.41421617\n",
      "   27.97370704 -169.17803008  -32.92217797  -45.47978934 -112.17469521\n",
      "   11.81604933  -85.22302228  -39.63734521 -158.49351733 -208.43380483\n",
      "    4.49112132 -197.34144337  175.66306237  -10.94229737   17.12590623\n",
      "   30.93016417  230.03489492  -26.22712231  128.65666031   54.48873094\n",
      "    9.40907271  -82.56721827  -10.58516553  213.0189998   -14.09069577\n",
      " -133.1266755   -47.76400127  -90.79894081    7.81557413  -15.36393533\n",
      "  -60.06984071  -17.58980081 -165.61756242 -117.19273579   43.05267547\n",
      "  -38.02289093 -150.20660965   85.14023136   -1.76503392  126.33444883\n",
      "  -44.77244083    1.30308907  165.22574004  162.88581414   44.38250663\n",
      "  -27.59775255   55.07491304  105.00110402  -36.30341941  -64.87122199\n",
      "  -77.80113344 -179.65527963  119.92934852   61.93535434   54.21182508]\n"
     ]
    }
   ],
   "source": [
    "ans=predictions(X_test,theta_minibatch)\n",
    "print(ans)\n",
    "# plt.plot(ans)"
   ]
  },
  {
   "cell_type": "code",
   "execution_count": null,
   "metadata": {},
   "outputs": [],
   "source": []
  },
  {
   "cell_type": "code",
   "execution_count": null,
   "metadata": {},
   "outputs": [],
   "source": []
  }
 ],
 "metadata": {
  "kernelspec": {
   "display_name": "Python 3",
   "language": "python",
   "name": "python3"
  },
  "language_info": {
   "codemirror_mode": {
    "name": "ipython",
    "version": 3
   },
   "file_extension": ".py",
   "mimetype": "text/x-python",
   "name": "python",
   "nbconvert_exporter": "python",
   "pygments_lexer": "ipython3",
   "version": "3.7.3"
  }
 },
 "nbformat": 4,
 "nbformat_minor": 2
}
