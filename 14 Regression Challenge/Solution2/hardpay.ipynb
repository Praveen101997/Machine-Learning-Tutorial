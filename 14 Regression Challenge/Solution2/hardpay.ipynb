{
 "cells": [
  {
   "cell_type": "code",
   "execution_count": 1,
   "metadata": {},
   "outputs": [],
   "source": [
    "import numpy as np\n",
    "import pandas as pd\n",
    "import matplotlib.pyplot as plt"
   ]
  },
  {
   "cell_type": "code",
   "execution_count": 2,
   "metadata": {},
   "outputs": [],
   "source": [
    "dfx = pd.read_csv('Linear_X_Train.csv')\n",
    "dfy = pd.read_csv('Linear_Y_Train.csv')\n",
    "x = dfx.values\n",
    "y = dfy.values"
   ]
  },
  {
   "cell_type": "code",
   "execution_count": 3,
   "metadata": {},
   "outputs": [],
   "source": [
    "#print(x.shape)\n",
    "#print(x)\n",
    "#plt.scatter(x,y)\n",
    "#plt.show()\n",
    "x = x.reshape((-1,))\n",
    "y = y.reshape((-1,))\n",
    "#print(x.shape)\n",
    "#print(x)\n",
    "X = (x-x.mean())/x.std()\n",
    "Y = y\n",
    "#plt.scatter(X,Y)\n",
    "#plt.show()"
   ]
  },
  {
   "cell_type": "code",
   "execution_count": null,
   "metadata": {},
   "outputs": [],
   "source": []
  },
  {
   "cell_type": "code",
   "execution_count": 4,
   "metadata": {},
   "outputs": [],
   "source": [
    "def hypothesis(x,theta):\n",
    "    return(theta[0]+theta[1]*x)"
   ]
  },
  {
   "cell_type": "code",
   "execution_count": 13,
   "metadata": {},
   "outputs": [],
   "source": [
    "def error(x,y,theta):\n",
    "    m=x.shape[0]\n",
    "    error=0\n",
    "    for i in range(m):\n",
    "        h=hypothesis(x[i],theta)  # you were not computing hypothesis correctly.\n",
    "        error += (h-y[i])**2\n",
    "    return error/m\n"
   ]
  },
  {
   "cell_type": "code",
   "execution_count": 14,
   "metadata": {},
   "outputs": [],
   "source": [
    "def gradient(x,y,theta):\n",
    "    m=x.shape[0]\n",
    "    grad=np.zeros(2)\n",
    "    for i in range(m):\n",
    "        h=hypothesis(x[i],theta)\n",
    "        grad[0]+=(h-y[i])       # Problem was here\n",
    "        grad[1]+=(h-y[i])*x[i] # and here\n",
    "    return grad"
   ]
  },
  {
   "cell_type": "code",
   "execution_count": 15,
   "metadata": {},
   "outputs": [],
   "source": [
    "def gradient_descent(x,y,k=.001):\n",
    "    theta=np.array([-1.0, 0.6])\n",
    "    m=x.shape[0]\n",
    "    itr=50\n",
    "    err_list=[]\n",
    "    for i in range(itr):\n",
    "        grad=gradient(x,y,theta)\n",
    "        e=error(x,y,theta)\n",
    "        err_list.append(e)\n",
    "        theta[0]=theta[0]-k*grad[0]\n",
    "        theta[1]=theta[1]-k*grad[1]\n",
    "    return theta,err_list"
   ]
  },
  {
   "cell_type": "code",
   "execution_count": 8,
   "metadata": {},
   "outputs": [],
   "source": [
    "def prediction(x,theta):\n",
    "    m=x.shape[0]\n",
    "    Y_Predicted=[]\n",
    "    for i in range(m):\n",
    "        y=hypothesis(x[i],theta)\n",
    "        Y_Predicted.append(y)\n",
    "    Y_Predicted=np.array(Y_Predicted)\n",
    "    return Y_Predicted"
   ]
  },
  {
   "cell_type": "code",
   "execution_count": 16,
   "metadata": {},
   "outputs": [
    {
     "data": {
      "image/png": "[encoded data removed]",
      "text/plain": [
       "<Figure size 432x288 with 1 Axes>"
      ]
     },
     "metadata": {
      "needs_background": "light"
     },
     "output_type": "display_data"
    }
   ],
   "source": [
    "final_theta=np.zeros((2,))\n",
    "final_theta, error_list = gradient_descent(X,Y, k= 0.0001)\n",
    "#plt.plot(final_theta)\n",
    "#plt.plot(error_list)\n",
    "#plt.show()\n",
    "xt=np.arange(-4,6)                               \n",
    "plt.plot(xt,hypothesis(xt,final_theta),color='r',label=\"Predicted Value \") \n",
    "plt.show() "
   ]
  },
  {
   "cell_type": "code",
   "execution_count": 17,
   "metadata": {},
   "outputs": [],
   "source": [
    "#Y_Predicted_Values=prediction(X,final_theta)    \n",
    "#print(Y_Predicted_Values)\n",
    "dx = pd.read_csv('Linear_X_Test.csv')"
   ]
  },
  {
   "cell_type": "code",
   "execution_count": 20,
   "metadata": {},
   "outputs": [
    {
     "name": "stdout",
     "output_type": "stream",
     "text": [
      "[-149.37466337  -68.7567667  -201.49222226 ...   10.91242825  -21.53292954\n",
      "  -53.68602632]\n"
     ]
    }
   ],
   "source": [
    "x=dx.values\n",
    "#print(x.shape)\n",
    "x=x.reshape((-1,))\n",
    "#print(x.shape)\n",
    "y=prediction(x,final_theta)    \n",
    "print(y)\n",
    "pd.DataFrame(y).to_csv(\"../outputLinear_Y_Test.csv\")       "
   ]
  },
  {
   "cell_type": "code",
   "execution_count": null,
   "metadata": {},
   "outputs": [],
   "source": []
  }
 ],
 "metadata": {
  "kernelspec": {
   "display_name": "Python 3",
   "language": "python",
   "name": "python3"
  },
  "language_info": {
   "codemirror_mode": {
    "name": "ipython",
    "version": 3
   },
   "file_extension": ".py",
   "mimetype": "text/x-python",
   "name": "python",
   "nbconvert_exporter": "python",
   "pygments_lexer": "ipython3",
   "version": "3.7.3"
  }
 },
 "nbformat": 4,
 "nbformat_minor": 2
}
