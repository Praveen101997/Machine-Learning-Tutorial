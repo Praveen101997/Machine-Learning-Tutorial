{
 "cells": [
  {
   "cell_type": "markdown",
   "metadata": {},
   "source": [
    "# Hardworks Pays Off"
   ]
  },
  {
   "cell_type": "markdown",
   "metadata": {},
   "source": [
    "#### Since dataset is big , therefore we will use minibatch method."
   ]
  },
  {
   "cell_type": "code",
   "execution_count": 29,
   "metadata": {},
   "outputs": [],
   "source": [
    "#Here importing all necessary libraries\n",
    "import numpy as np\n",
    "import pandas as pd\n",
    "import matplotlib.pyplot as plt"
   ]
  },
  {
   "cell_type": "code",
   "execution_count": 30,
   "metadata": {},
   "outputs": [],
   "source": [
    "#Reading the datasets\n",
    "X = pd.read_csv('Linear_X_Train.csv')\n",
    "Y = pd.read_csv(\"Linear_Y_Train.csv\")\n",
    "X_Test = pd.read_csv(\"Linear_X_Test.csv\")"
   ]
  },
  {
   "cell_type": "code",
   "execution_count": 31,
   "metadata": {},
   "outputs": [],
   "source": [
    "#Converting Dataframes into numpy arrays\n",
    "X = np.array(X)\n",
    "Y = np.array(Y)\n",
    "X = (X-X.mean())/X.std()   #Normalizing the data here.\n",
    "X_Test = np.array(X_Test)"
   ]
  },
  {
   "cell_type": "code",
   "execution_count": 32,
   "metadata": {},
   "outputs": [],
   "source": [
    "#Creating hypothesis function according the rule which will return the value of Y_Predicted\n",
    "def hypothesis(x,theta):\n",
    "    return(theta[0] + theta[1] * x)"
   ]
  },
  {
   "cell_type": "code",
   "execution_count": 33,
   "metadata": {},
   "outputs": [],
   "source": [
    "\"\"\"Creating a function which will take the value of X and theta(already calculated) and will return an array...\n",
    "...containing the predicted values according to given X and theta.\"\"\"\n",
    "def prediction(X,theta):\n",
    "    m = X.shape[0]\n",
    "    Y_Predicted = []\n",
    "    for i in range(m):\n",
    "        y = hypothesis(X[i],theta)\n",
    "        Y_Predicted.append(y)\n",
    "    Y_Predicted = np.array(Y_Predicted)\n",
    "    return(Y_Predicted)"
   ]
  },
  {
   "cell_type": "code",
   "execution_count": 34,
   "metadata": {},
   "outputs": [],
   "source": [
    "\"\"\"Creating an error fucntion here according to the formula and returning the same.\n",
    "We have created it to get the error value so we can save them in a list in order to plot the error graph.\"\"\"\n",
    "def get_error(X,Y,theta):\n",
    "    error = 0\n",
    "    m = X.shape[0]\n",
    "    for i in range(m):\n",
    "        hx = hypothesis(X[i],theta)\n",
    "        error += (hx-Y[i])**2\n",
    "    return(error)"
   ]
  },
  {
   "cell_type": "code",
   "execution_count": 35,
   "metadata": {},
   "outputs": [],
   "source": [
    "\"\"\"Since the dataset is big, so we are using the minibatch method. Taking the batch size=30 and then...\n",
    "...creating random examples of the batch size\"\"\"\n",
    "def batch_gradient(X,Y,theta,batch_size=30):\n",
    "    m=X.shape[0]\n",
    "    random_examples=np.arange(m)                  #creates an array [0,1,2,.....,m-1]\n",
    "    np.random.shuffle(random_examples)            #this shuffles the values of array, e.g [1763,2080,22,78,823,...]\n",
    "    random_examples=random_examples[:batch_size]  #This creates an array of batch size containing random indexes\n",
    "    grad=np.zeros((2,))                           #creating gradient array and intializing it to zero\n",
    "    for i in random_examples:\n",
    "        hx = hypothesis(X[i],theta)\n",
    "        grad[0] += (hx-Y[i])                        #finding gradients according the formula\n",
    "        grad[1] += (hx-Y[i])*X[i]\n",
    "    return(grad)"
   ]
  },
  {
   "cell_type": "code",
   "execution_count": 37,
   "metadata": {},
   "outputs": [
    {
     "data": {
      "image/png": "[encoded data removed]",
      "text/plain": [
       "<Figure size 432x288 with 1 Axes>"
      ]
     },
     "metadata": {
      "needs_background": "light"
     },
     "output_type": "display_data"
    },
    {
     "name": "stdout",
     "output_type": "stream",
     "text": [
      "Values of intercept and slope are  0.6677385582778007 78.24875383768915  respectively.\n",
      "[[-146.27907162]\n",
      " [ -67.33292591]\n",
      " [-197.31588315]\n",
      " ...\n",
      " [  10.68419104]\n",
      " [ -21.08835636]\n",
      " [ -52.5747033 ]]\n"
     ]
    },
    {
     "data": {
      "image/png": "[encoded data removed]",
      "text/plain": [
       "<Figure size 432x288 with 1 Axes>"
      ]
     },
     "metadata": {
      "needs_background": "light"
     },
     "output_type": "display_data"
    }
   ],
   "source": [
    "#Creating main driver program    \n",
    "def minibatch_gradient_descent(X,Y,batch_size=30,learning_rate=0.001):\n",
    "    theta = np.zeros((2,))\n",
    "    error_values = []\n",
    "    batches = int(X.shape[0]/batch_size)            #defining total number of batches here.\n",
    "    for i in range(batches):\n",
    "        grad = batch_gradient(X,Y,theta,batch_size=30)\n",
    "        error = get_error(X,Y,theta)          \n",
    "        error_values.append(error)                #appending the error values so that it can be used for error plot\n",
    "        theta[0] -= learning_rate*grad[0]           #here updating the values of theta according to gradient descent method.\n",
    "        theta[1] -= learning_rate*grad[1]\n",
    "    return(theta,error_values)\n",
    "    \n",
    "theta,error_values = minibatch_gradient_descent(X,Y,30,0.001)\n",
    "plt.plot(error_values)                           #Plotting the error values\n",
    "plt.show()\n",
    "print(\"Values of intercept and slope are \",theta[0],theta[1],\" respectively.\")\n",
    "plt.scatter(X,Y,label=\"Actual Values \")          #Plotting the X and Y by scatter method\n",
    "xt = np.arange(-4,6)                               \n",
    "#Creating some Xtest values in order to plot a line over the scatter plot to see how efficient our graph is.\n",
    "plt.plot(xt,hypothesis(xt,theta),color='r',label=\"Predicted Value \") \n",
    "#Plotting the Line by predicting the values according to given and derived thetas.\n",
    "plt.legend() \n",
    "Y_Predicted_Values = prediction(X_Test,theta)      \n",
    "#Prediciting the values of Y according given X_Test Values and saving them into an array\n",
    "print(Y_Predicted_Values)\n",
    "pd.DataFrame(Y_Predicted_Values).to_csv(\"outputLinear_Y_Test.csv\")"
   ]
  },
  {
   "cell_type": "code",
   "execution_count": null,
   "metadata": {},
   "outputs": [],
   "source": []
  }
 ],
 "metadata": {
  "kernelspec": {
   "display_name": "Python 3",
   "language": "python",
   "name": "python3"
  },
  "language_info": {
   "codemirror_mode": {
    "name": "ipython",
    "version": 3
   },
   "file_extension": ".py",
   "mimetype": "text/x-python",
   "name": "python",
   "nbconvert_exporter": "python",
   "pygments_lexer": "ipython3",
   "version": "3.7.3"
  }
 },
 "nbformat": 4,
 "nbformat_minor": 2
}
